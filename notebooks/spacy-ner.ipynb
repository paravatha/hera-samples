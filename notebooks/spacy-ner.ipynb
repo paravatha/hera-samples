{
 "cells": [
  {
   "cell_type": "code",
   "execution_count": null,
   "metadata": {},
   "outputs": [],
   "source": [
    "import spacy\n",
    "from spacy.lang.en.examples import sentences \n",
    "from spacy.cli import download"
   ]
  },
  {
   "cell_type": "code",
   "execution_count": null,
   "metadata": {},
   "outputs": [],
   "source": [
    "# Here we are using Spacy English model en_core_web_lg\n",
    "spacy_model_name = 'en_core_web_lg'\n",
    "#download(spacy_model_name)"
   ]
  },
  {
   "cell_type": "code",
   "execution_count": 37,
   "metadata": {},
   "outputs": [
    {
     "name": "stdout",
     "output_type": "stream",
     "text": [
      "input text: Weeks after mechanics working for Tesla in Sweden walked off their jobs in late October, members of other unions across the country and elsewhere in Scandinavia have joined the strike in sympathy by refusing to provide services to Tesla to pressure the automaker to sign a collective agreement with its Swedish workers\n"
     ]
    }
   ],
   "source": [
    "nlp = spacy.load(spacy_model_name)\n",
    "input_text=\"Weeks after mechanics working for Tesla in Sweden walked off their jobs in late October, members of other unions across the country and elsewhere in Scandinavia have joined the strike in sympathy by refusing to provide services to Tesla to pressure the automaker to sign a collective agreement with its Swedish workers\"\n",
    "doc = nlp(input_text)\n",
    "print(f\"input text: {doc.text}\")"
   ]
  },
  {
   "cell_type": "code",
   "execution_count": 38,
   "metadata": {},
   "outputs": [
    {
     "name": "stdout",
     "output_type": "stream",
     "text": [
      "output NER:\n",
      "Weeks is DATE\n",
      "Tesla is ORG\n",
      "Sweden is GPE\n",
      "late October is DATE\n",
      "Scandinavia is LOC\n",
      "Tesla is ORG\n",
      "Swedish is NORP\n"
     ]
    }
   ],
   "source": [
    "# Iterate over the predicted entities\n",
    "print(f\"output NER:\")\n",
    "for ent in doc.ents:    \n",
    "  # Print the entity text and its label    \n",
    "  print(f\"{ent.text} is {ent.label_}\")\n"
   ]
  },
  {
   "cell_type": "code",
   "execution_count": null,
   "metadata": {},
   "outputs": [],
   "source": []
  }
 ],
 "metadata": {
  "kernelspec": {
   "display_name": "venv",
   "language": "python",
   "name": "python3"
  },
  "language_info": {
   "codemirror_mode": {
    "name": "ipython",
    "version": 3
   },
   "file_extension": ".py",
   "mimetype": "text/x-python",
   "name": "python",
   "nbconvert_exporter": "python",
   "pygments_lexer": "ipython3",
   "version": "3.12.0"
  }
 },
 "nbformat": 4,
 "nbformat_minor": 2
}
