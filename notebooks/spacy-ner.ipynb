{
 "cells": [
  {
   "cell_type": "code",
   "execution_count": null,
   "metadata": {},
   "outputs": [],
   "source": [
    "import spacy\n",
    "from spacy.lang.en.examples import sentences \n",
    "from spacy.cli import download\n",
    "import json\n",
    "import pydantic"
   ]
  },
  {
   "cell_type": "code",
   "execution_count": null,
   "metadata": {},
   "outputs": [],
   "source": [
    "with open('data.json', 'w') as f:\n",
    "    json.dump(sentences, f) "
   ]
  },
  {
   "cell_type": "code",
   "execution_count": null,
   "metadata": {},
   "outputs": [],
   "source": [
    "for sentence in sentences:\n",
    "    print(f\"input text: {sentence}\")\n",
    "    with open('data.json', 'w') as f:\n",
    "        json.dump(sentence, f)    "
   ]
  },
  {
   "cell_type": "code",
   "execution_count": null,
   "metadata": {},
   "outputs": [],
   "source": [
    "# Here we are using Spacy English model en_core_web_lg\n",
    "spacy_model_name = 'en_core_web_lg'\n",
    "print(pydantic.version.version_info())\n",
    "download(spacy_model_name)\n",
    "nlp = spacy.load(spacy_model_name)\n"
   ]
  },
  {
   "cell_type": "code",
   "execution_count": null,
   "metadata": {},
   "outputs": [],
   "source": [
    "# input_text=\"Weeks after mechanics working for Tesla in Sweden walked off their jobs in late October, members of other unions across the country and elsewhere in Scandinavia have joined the strike in sympathy by refusing to provide services to Tesla to pressure the automaker to sign a collective agreement with its Swedish workers\"\n",
    "# doc = nlp(input_text)\n",
    "# print(f\"input text: {doc.text}\")"
   ]
  },
  {
   "cell_type": "code",
   "execution_count": null,
   "metadata": {},
   "outputs": [],
   "source": [
    "# for sentence in sentences:\n",
    "#     print(f\"input text: {sentence}\")\n",
    "#     doc = nlp(sentence)    \n",
    "#     print(f\"output NER:\")\n",
    "#     for ent in doc.ents:    \n",
    "#     # Print the entity text and its label    \n",
    "#         print(f\"{ent.text} is {ent.label_}\")\n"
   ]
  },
  {
   "cell_type": "code",
   "execution_count": null,
   "metadata": {},
   "outputs": [],
   "source": [
    "from pydantic import BaseModel\n",
    "from typing import List\n",
    "\n",
    "class NEROutput(BaseModel):\n",
    "    input_text: str\n",
    "    ner_entities: List[str] = []\n",
    "\n",
    "ner_output_list : List[str] = []\n",
    "for sentence in sentences:\n",
    "    print(f\"input text: {sentence}\")\n",
    "    doc = nlp(sentence)    \n",
    "    print(f\"output NER:\")\n",
    "    ner_entities: List[str] = []\n",
    "    for ent in doc.ents:    \n",
    "        # Print the entity text and its label\n",
    "        ner_entity = f\"{ent.text} is {ent.label_}\" \n",
    "        print(ner_entity)\n",
    "        ner_entities.append(ner_entity)\n",
    "    print(f\"ner_entities = {ner_entities}\")\n",
    "    ner_output = NEROutput(input_text=sentence, ner_entities = ner_entities)\n",
    "    ner_output_list.append(dict(ner_output))\n",
    "    print(f\"ner_output_list = {ner_output_list}\")\n",
    "    with open('results.json', 'w') as json_file:\n",
    "        json.dump(ner_output_list, json_file)     \n",
    "print(\"Inference completed\")"
   ]
  }
 ],
 "metadata": {
  "kernelspec": {
   "display_name": "venv",
   "language": "python",
   "name": "python3"
  },
  "language_info": {
   "codemirror_mode": {
    "name": "ipython",
    "version": 3
   },
   "file_extension": ".py",
   "mimetype": "text/x-python",
   "name": "python",
   "nbconvert_exporter": "python",
   "pygments_lexer": "ipython3",
   "version": "3.12.0"
  }
 },
 "nbformat": 4,
 "nbformat_minor": 2
}
